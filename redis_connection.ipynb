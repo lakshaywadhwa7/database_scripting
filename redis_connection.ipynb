{
 "cells": [
  {
   "cell_type": "code",
   "execution_count": 1,
   "id": "ecea3d33",
   "metadata": {},
   "outputs": [
    {
     "name": "stdout",
     "output_type": "stream",
     "text": [
      "Requirement already satisfied: redis in /Users/lakshaywadhwa/opt/anaconda3/lib/python3.9/site-packages (2.10.6)\n",
      "\u001b[33mWARNING: You are using pip version 22.0.3; however, version 22.1.2 is available.\n",
      "You should consider upgrading via the '/Users/lakshaywadhwa/opt/anaconda3/bin/python -m pip install --upgrade pip' command.\u001b[0m\n"
     ]
    }
   ],
   "source": [
    "\n",
    "!pip install redis\n",
    "#redis==2.10.6\n",
    "#redis-py-cluster==1.3.4\n"
   ]
  },
  {
   "cell_type": "code",
   "execution_count": 2,
   "id": "bb3ef7cf",
   "metadata": {},
   "outputs": [
    {
     "name": "stdout",
     "output_type": "stream",
     "text": [
      "Requirement already satisfied: redis-py-cluster in /Users/lakshaywadhwa/opt/anaconda3/lib/python3.9/site-packages (1.3.4)\n",
      "Requirement already satisfied: redis>=2.10.2 in /Users/lakshaywadhwa/opt/anaconda3/lib/python3.9/site-packages (from redis-py-cluster) (2.10.6)\n",
      "\u001b[33mWARNING: You are using pip version 22.0.3; however, version 22.1.2 is available.\n",
      "You should consider upgrading via the '/Users/lakshaywadhwa/opt/anaconda3/bin/python -m pip install --upgrade pip' command.\u001b[0m\n"
     ]
    }
   ],
   "source": [
    "!pip install redis-py-cluster"
   ]
  },
  {
   "cell_type": "code",
   "execution_count": 3,
   "id": "926134cc",
   "metadata": {},
   "outputs": [],
   "source": [
    "import redis\n",
    "from rediscluster import StrictRedisCluster"
   ]
  },
  {
   "cell_type": "code",
   "execution_count": null,
   "id": "e5dbbd6a",
   "metadata": {},
   "outputs": [],
   "source": []
  },
  {
   "cell_type": "code",
   "execution_count": 4,
   "id": "a5969875",
   "metadata": {},
   "outputs": [],
   "source": [
    "def get_redis(data):\n",
    "    redis_conf = data\n",
    "    if redis_conf['REDIS_CONFIG']['cluster']['mode']==True:\n",
    "        startup_nodes = redis_conf['REDIS_CONFIG']['node_addresses']\n",
    "        print(startup_nodes)\n",
    "        try:\n",
    "            redis_1 = StrictRedisCluster(startup_nodes=startup_nodes,\n",
    "                                                    decode_responses=True)\n",
    "        except:\n",
    "            \n",
    "            redis_1 = StrictRedisCluster(startup_nodes=startup_nodes,\n",
    "                                                    decode_responses=True,\n",
    "                                                    skip_full_coverage_check = True)\n",
    "\n",
    "    else:\n",
    "        host = redis_conf['REDIS_CONFIG']['single_server_config']['host']\n",
    "        port = redis_conf['REDIS_CONFIG']['single_server_config']['port']\n",
    "        redis_1 = redis.StrictRedis(host=host, port=port, db=0)\n",
    "    return redis_1\n"
   ]
  },
  {
   "cell_type": "code",
   "execution_count": null,
   "id": "0a4450de",
   "metadata": {},
   "outputs": [],
   "source": []
  },
  {
   "cell_type": "code",
   "execution_count": 5,
   "id": "6251d675",
   "metadata": {},
   "outputs": [],
   "source": [
    "data={\n",
    "  \"REDIS_CONFIG\": {\n",
    "    \"article_key\": \"key_1\",\n",
    "    \"cluster\": {\n",
    "      \"mode\": False\n",
    "    },\n",
    "    \"single_server_config\": {\n",
    "      \"host\": \"localhost\",\n",
    "      \"port\": \"6379\"\n",
    "    },\n",
    "    \"node_addresses\": [\n",
    "      {\n",
    "        \"host\": \"x.x.x.x\",\n",
    "        \"port\": \"x\"\n",
    "      }\n",
    "    ]\n",
    "  },\n",
    "}\n"
   ]
  },
  {
   "cell_type": "code",
   "execution_count": 6,
   "id": "307d9a59",
   "metadata": {},
   "outputs": [
    {
     "data": {
      "text/plain": [
       "False"
      ]
     },
     "execution_count": 6,
     "metadata": {},
     "output_type": "execute_result"
    }
   ],
   "source": [
    "data['REDIS_CONFIG']['cluster']['mode']"
   ]
  },
  {
   "cell_type": "code",
   "execution_count": 7,
   "id": "fc533d6d",
   "metadata": {},
   "outputs": [],
   "source": [
    "redisCli=get_redis(data)"
   ]
  },
  {
   "cell_type": "code",
   "execution_count": 8,
   "id": "dab5d47b",
   "metadata": {},
   "outputs": [
    {
     "data": {
      "text/plain": [
       "StrictRedis<ConnectionPool<Connection<host=localhost,port=6379,db=0>>>"
      ]
     },
     "execution_count": 8,
     "metadata": {},
     "output_type": "execute_result"
    }
   ],
   "source": [
    "redisCli"
   ]
  },
  {
   "cell_type": "code",
   "execution_count": 9,
   "id": "6654f399",
   "metadata": {},
   "outputs": [],
   "source": [
    "redis_key = data['REDIS_CONFIG']['article_key']"
   ]
  },
  {
   "cell_type": "code",
   "execution_count": 11,
   "id": "798385e4",
   "metadata": {},
   "outputs": [
    {
     "data": {
      "text/plain": [
       "3"
      ]
     },
     "execution_count": 11,
     "metadata": {},
     "output_type": "execute_result"
    }
   ],
   "source": [
    "redisCli.incrby(redis_key)"
   ]
  },
  {
   "cell_type": "code",
   "execution_count": 12,
   "id": "0467d220",
   "metadata": {},
   "outputs": [
    {
     "data": {
      "text/plain": [
       "b'3'"
      ]
     },
     "execution_count": 12,
     "metadata": {},
     "output_type": "execute_result"
    }
   ],
   "source": [
    "redisCli.get(redis_key)"
   ]
  }
 ],
 "metadata": {
  "kernelspec": {
   "display_name": "Python 3 (ipykernel)",
   "language": "python",
   "name": "python3"
  },
  "language_info": {
   "codemirror_mode": {
    "name": "ipython",
    "version": 3
   },
   "file_extension": ".py",
   "mimetype": "text/x-python",
   "name": "python",
   "nbconvert_exporter": "python",
   "pygments_lexer": "ipython3",
   "version": "3.9.7"
  }
 },
 "nbformat": 4,
 "nbformat_minor": 5
}
