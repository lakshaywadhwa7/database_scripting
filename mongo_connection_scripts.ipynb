{
 "cells": [
  {
   "cell_type": "code",
   "execution_count": null,
   "id": "2ff0d53d",
   "metadata": {},
   "outputs": [],
   "source": [
    "!pip install pymongo "
   ]
  },
  {
   "cell_type": "code",
   "execution_count": null,
   "id": "011cb053",
   "metadata": {},
   "outputs": [],
   "source": [
    "import pymongo"
   ]
  },
  {
   "cell_type": "code",
   "execution_count": null,
   "id": "d50f9a0d",
   "metadata": {},
   "outputs": [],
   "source": [
    "MONGO_USERS_CONF= {\n",
    "    \"ID\":\"12345\",\n",
    "    \"host\": \"localhost\",\n",
    "    \"port\": \"27017\",\n",
    "    \"db_name\": \"dss-rrs\",\n",
    "    \"collection_name\": \"-Users\"\n",
    "  }\n"
   ]
  },
  {
   "cell_type": "code",
   "execution_count": null,
   "id": "d173d0df",
   "metadata": {},
   "outputs": [],
   "source": [
    "def mongo():\n",
    "    mongo_conf = MONGO_USERS_CONF\n",
    "    myclient = pymongo.MongoClient(\"mongodb://\" + mongo_conf['host'] + \":\" + mongo_conf['port'] + \"/\")\n",
    "    mydb = myclient[mongo_conf['db_name']]\n",
    "    mycol = mydb[mongo_conf['ID'] + mongo_conf['collection_name']]\n",
    "    return mycol\n"
   ]
  },
  {
   "cell_type": "code",
   "execution_count": null,
   "id": "f0c027f4",
   "metadata": {},
   "outputs": [],
   "source": [
    "mongo=mongo()"
   ]
  },
  {
   "cell_type": "code",
   "execution_count": null,
   "id": "15ab9fac",
   "metadata": {},
   "outputs": [],
   "source": [
    "mongo"
   ]
  },
  {
   "cell_type": "code",
   "execution_count": null,
   "id": "6a420e36",
   "metadata": {},
   "outputs": [],
   "source": [
    "def fetch_user_mongo_document(id,mongo):\n",
    "    mongo_conf = MONGO_USERS_CONF\n",
    "    mongo=mongo\n",
    "    query = {\"_id\": mongo_conf[\"ID\"] + \":user:\" + id}\n",
    "        # todo: remove document name\n",
    "    user_document = mongo.find_one(query)\n",
    "    if user_document is not None:\n",
    "        return user_document\n",
    "    else:\n",
    "        raise FileNotFoundError('Could not find user in mongo, user = {}'.format(id))"
   ]
  },
  {
   "cell_type": "code",
   "execution_count": null,
   "id": "c6ec4667",
   "metadata": {},
   "outputs": [],
   "source": [
    "id=\"lak-123456\""
   ]
  },
  {
   "cell_type": "code",
   "execution_count": null,
   "id": "0b8a2ff1",
   "metadata": {},
   "outputs": [],
   "source": [
    "fetch_user_mongo_document(id,mongo)"
   ]
  }
 ],
 "metadata": {
  "kernelspec": {
   "display_name": "Python 3 (ipykernel)",
   "language": "python",
   "name": "python3"
  },
  "language_info": {
   "codemirror_mode": {
    "name": "ipython",
    "version": 3
   },
   "file_extension": ".py",
   "mimetype": "text/x-python",
   "name": "python",
   "nbconvert_exporter": "python",
   "pygments_lexer": "ipython3",
   "version": "3.9.7"
  }
 },
 "nbformat": 4,
 "nbformat_minor": 5
}
