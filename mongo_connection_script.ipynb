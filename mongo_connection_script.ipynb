{
 "cells": [
  {
   "cell_type": "code",
   "execution_count": 1,
   "id": "2ff0d53d",
   "metadata": {},
   "outputs": [
    {
     "name": "stdout",
     "output_type": "stream",
     "text": [
      "Requirement already satisfied: pymongo in ./opt/anaconda3/lib/python3.9/site-packages (4.2.0)\n",
      "\u001b[33mWARNING: You are using pip version 22.0.3; however, version 22.2.1 is available.\n",
      "You should consider upgrading via the '/Users/lakshaywadhwa/opt/anaconda3/bin/python -m pip install --upgrade pip' command.\u001b[0m\n"
     ]
    }
   ],
   "source": [
    "!pip install pymongo "
   ]
  },
  {
   "cell_type": "code",
   "execution_count": 2,
   "id": "011cb053",
   "metadata": {},
   "outputs": [],
   "source": [
    "import pymongo"
   ]
  },
  {
   "cell_type": "code",
   "execution_count": 3,
   "id": "d50f9a0d",
   "metadata": {},
   "outputs": [],
   "source": [
    "MONGO_USERS_CONF= {\n",
    "    \"ID\":\"12345\",\n",
    "    \"host\": \"localhost\",\n",
    "    \"port\": \"27017\",\n",
    "    \"db_name\": \"dss-rrs\",\n",
    "    \"collection_name\": \"-Users\"\n",
    "  }\n"
   ]
  },
  {
   "cell_type": "code",
   "execution_count": 4,
   "id": "d173d0df",
   "metadata": {},
   "outputs": [],
   "source": [
    "def mongo():\n",
    "    mongo_conf = MONGO_USERS_CONF\n",
    "    myclient = pymongo.MongoClient(\"mongodb://\" + mongo_conf['host'] + \":\" + mongo_conf['port'] + \"/\")\n",
    "    mydb = myclient[mongo_conf['db_name']]\n",
    "    mycol = mydb[mongo_conf['ID'] + mongo_conf['collection_name']]\n",
    "    return mycol\n"
   ]
  },
  {
   "cell_type": "code",
   "execution_count": 5,
   "id": "f0c027f4",
   "metadata": {},
   "outputs": [],
   "source": [
    "mongo=mongo()"
   ]
  },
  {
   "cell_type": "code",
   "execution_count": 6,
   "id": "15ab9fac",
   "metadata": {},
   "outputs": [
    {
     "data": {
      "text/plain": [
       "Collection(Database(MongoClient(host=['localhost:27017'], document_class=dict, tz_aware=False, connect=True), 'dss-rrs'), '130915-Users')"
      ]
     },
     "execution_count": 6,
     "metadata": {},
     "output_type": "execute_result"
    }
   ],
   "source": [
    "mongo"
   ]
  },
  {
   "cell_type": "code",
   "execution_count": null,
   "id": "877ac00b",
   "metadata": {},
   "outputs": [],
   "source": [
    "#mongo.find_one(\"_id:130915:user:lak-123456\")"
   ]
  },
  {
   "cell_type": "code",
   "execution_count": 7,
   "id": "6a420e36",
   "metadata": {},
   "outputs": [],
   "source": [
    "def fetch_user_mongo_document(user_id,mongo):\n",
    "    mongo_conf = MONGO_USERS_CONF\n",
    "    mongo=mongo\n",
    "    query = {\"_id\": mongo_conf[\"ID\"] + \":user:\" + user_id}\n",
    "        # todo: remove document name\n",
    "    user_document = mongo.find_one(query)\n",
    "    if user_document is not None:\n",
    "        return user_document\n",
    "    else:\n",
    "        raise FileNotFoundError('Could not find user in mongo, uid = {}'.format(user_id))"
   ]
  },
  {
   "cell_type": "code",
   "execution_count": 8,
   "id": "c6ec4667",
   "metadata": {},
   "outputs": [],
   "source": [
    "id=\"lak-123456\""
   ]
  },
  {
   "cell_type": "code",
   "execution_count": 9,
   "id": "18a370f6",
   "metadata": {},
   "outputs": [
    {
     "data": {
      "text/plain": [
       "{'_id': '130915:user:lak-123456',\n",
       " 'history': [{'cid': 'af1295ed-1176-4fb7-aebf-31aa27d8ddd5',\n",
       "   'timestamp': 1646547802000.0,\n",
       "   'sid': 'NTtMUZJeMN9mRk2HkHjLR0jT6FU='},\n",
       "  {'cid': '781f4a30-5c5a-404f-be16-35d1ad102fe9',\n",
       "   'timestamp': 1646547765000.0,\n",
       "   'sid': 'NTtMUZJeMN9mRk2HkHjLR0jT6FU='},\n",
       "  {'cid': '1a1f508a-ca38-425b-9ee3-870840ba9a4a',\n",
       "   'timestamp': 1646547715000.0,\n",
       "   'sid': 'NTtMUZJeMN9mRk2HkHjLR0jT6FU='},\n",
       "  {'cid': '374761fa-8fdd-431e-8208-9936db17638e',\n",
       "   'timestamp': 1646547715000.0,\n",
       "   'sid': 'NTtMUZJeMN9mRk2HkHjLR0jT6FU='},\n",
       "  {'cid': '603fe78b-2028-40bf-b0d3-4156c484999b',\n",
       "   'timestamp': 1646547694000.0,\n",
       "   'sid': 'NTtMUZJeMN9mRk2HkHjLR0jT6FU='},\n",
       "  {'cid': '39da35a0-c377-41de-bf05-06c2f19046e4',\n",
       "   'timestamp': 1646547652000.0,\n",
       "   'sid': 'NTtMUZJeMN9mRk2HkHjLR0jT6FU='},\n",
       "  {'cid': '2a4a6c32-c0a7-480f-b896-2df9709c3b71',\n",
       "   'timestamp': 1646547618000.0,\n",
       "   'sid': 'NTtMUZJeMN9mRk2HkHjLR0jT6FU='},\n",
       "  {'cid': 'e89b6ce6-38e7-434c-b3a5-fe0c7abe38be',\n",
       "   'timestamp': 1646547579000.0,\n",
       "   'sid': 'NTtMUZJeMN9mRk2HkHjLR0jT6FU='},\n",
       "  {'cid': 'e89b6ce6-38e7-434c-b3a5-fe0c7abe38be',\n",
       "   'timestamp': 1646547564000.0,\n",
       "   'sid': 'NTtMUZJeMN9mRk2HkHjLR0jT6FU='},\n",
       "  {'cid': 'f60922cc-2426-42d4-b6c5-e7ca9dbebc6f',\n",
       "   'timestamp': 1646547486000.0,\n",
       "   'sid': 'NTtMUZJeMN9mRk2HkHjLR0jT6FU='},\n",
       "  {'cid': 'd2bd8966-881c-4139-916c-85bc8b5abc1c',\n",
       "   'timestamp': 1646547486000.0,\n",
       "   'sid': 'NTtMUZJeMN9mRk2HkHjLR0jT6FU='},\n",
       "  {'cid': 'f60922cc-2426-42d4-b6c5-e7ca9dbebc6f',\n",
       "   'timestamp': 1646547406633.0,\n",
       "   'sid': ''}],\n",
       " 'updatedAt': datetime.datetime(2022, 3, 6, 6, 23, 30, 303000)}"
      ]
     },
     "execution_count": 9,
     "metadata": {},
     "output_type": "execute_result"
    }
   ],
   "source": [
    "fetch_user_mongo_document(id,mongo)"
   ]
  },
  {
   "cell_type": "code",
   "execution_count": null,
   "id": "0b8a2ff1",
   "metadata": {},
   "outputs": [],
   "source": []
  }
 ],
 "metadata": {
  "kernelspec": {
   "display_name": "Python 3 (ipykernel)",
   "language": "python",
   "name": "python3"
  },
  "language_info": {
   "codemirror_mode": {
    "name": "ipython",
    "version": 3
   },
   "file_extension": ".py",
   "mimetype": "text/x-python",
   "name": "python",
   "nbconvert_exporter": "python",
   "pygments_lexer": "ipython3",
   "version": "3.9.7"
  }
 },
 "nbformat": 4,
 "nbformat_minor": 5
}
